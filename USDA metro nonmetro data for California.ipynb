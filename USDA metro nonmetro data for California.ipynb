{
 "cells": [
  {
   "cell_type": "code",
   "execution_count": 1,
   "id": "064b7db4",
   "metadata": {},
   "outputs": [],
   "source": [
    "import pandas as pd\n",
    "import geopandas as gpd\n",
    "import matplotlib.pyplot as plt\n",
    "%matplotlib inline"
   ]
  },
  {
   "cell_type": "markdown",
   "id": "9480c3fd",
   "metadata": {},
   "source": [
    "## This reads in the USDA rural-urban continuum data from the web."
   ]
  },
  {
   "cell_type": "code",
   "execution_count": 48,
   "id": "1da720ff",
   "metadata": {},
   "outputs": [
    {
     "data": {
      "text/html": [
       "<div>\n",
       "<style scoped>\n",
       "    .dataframe tbody tr th:only-of-type {\n",
       "        vertical-align: middle;\n",
       "    }\n",
       "\n",
       "    .dataframe tbody tr th {\n",
       "        vertical-align: top;\n",
       "    }\n",
       "\n",
       "    .dataframe thead th {\n",
       "        text-align: right;\n",
       "    }\n",
       "</style>\n",
       "<table border=\"1\" class=\"dataframe\">\n",
       "  <thead>\n",
       "    <tr style=\"text-align: right;\">\n",
       "      <th></th>\n",
       "      <th>FIPS</th>\n",
       "      <th>State</th>\n",
       "      <th>County_Name</th>\n",
       "      <th>Population_2010</th>\n",
       "      <th>RUCC_2013</th>\n",
       "      <th>Description</th>\n",
       "    </tr>\n",
       "  </thead>\n",
       "  <tbody>\n",
       "    <tr>\n",
       "      <th>0</th>\n",
       "      <td>1001</td>\n",
       "      <td>AL</td>\n",
       "      <td>Autauga County</td>\n",
       "      <td>54571</td>\n",
       "      <td>2.0</td>\n",
       "      <td>Metro - Counties in metro areas of 250,000 to ...</td>\n",
       "    </tr>\n",
       "    <tr>\n",
       "      <th>1</th>\n",
       "      <td>1003</td>\n",
       "      <td>AL</td>\n",
       "      <td>Baldwin County</td>\n",
       "      <td>182265</td>\n",
       "      <td>3.0</td>\n",
       "      <td>Metro - Counties in metro areas of fewer than ...</td>\n",
       "    </tr>\n",
       "    <tr>\n",
       "      <th>2</th>\n",
       "      <td>1005</td>\n",
       "      <td>AL</td>\n",
       "      <td>Barbour County</td>\n",
       "      <td>27457</td>\n",
       "      <td>6.0</td>\n",
       "      <td>Nonmetro - Urban population of 2,500 to 19,999...</td>\n",
       "    </tr>\n",
       "    <tr>\n",
       "      <th>3</th>\n",
       "      <td>1007</td>\n",
       "      <td>AL</td>\n",
       "      <td>Bibb County</td>\n",
       "      <td>22915</td>\n",
       "      <td>1.0</td>\n",
       "      <td>Metro - Counties in metro areas of 1 million p...</td>\n",
       "    </tr>\n",
       "    <tr>\n",
       "      <th>4</th>\n",
       "      <td>1009</td>\n",
       "      <td>AL</td>\n",
       "      <td>Blount County</td>\n",
       "      <td>57322</td>\n",
       "      <td>1.0</td>\n",
       "      <td>Metro - Counties in metro areas of 1 million p...</td>\n",
       "    </tr>\n",
       "  </tbody>\n",
       "</table>\n",
       "</div>"
      ],
      "text/plain": [
       "   FIPS State     County_Name  Population_2010  RUCC_2013  \\\n",
       "0  1001    AL  Autauga County            54571        2.0   \n",
       "1  1003    AL  Baldwin County           182265        3.0   \n",
       "2  1005    AL  Barbour County            27457        6.0   \n",
       "3  1007    AL     Bibb County            22915        1.0   \n",
       "4  1009    AL   Blount County            57322        1.0   \n",
       "\n",
       "                                         Description  \n",
       "0  Metro - Counties in metro areas of 250,000 to ...  \n",
       "1  Metro - Counties in metro areas of fewer than ...  \n",
       "2  Nonmetro - Urban population of 2,500 to 19,999...  \n",
       "3  Metro - Counties in metro areas of 1 million p...  \n",
       "4  Metro - Counties in metro areas of 1 million p...  "
      ]
     },
     "execution_count": 48,
     "metadata": {},
     "output_type": "execute_result"
    }
   ],
   "source": [
    "#USDA Metro/nonmetro codes 2013\n",
    "usda_metro_2013 = pd.read_excel(\"https://www.ers.usda.gov/webdocs/DataFiles/53251/ruralurbancodes2013.xls\")\n",
    "\n",
    "#Make sure the data is read it\n",
    "usda_metro_2013.head()"
   ]
  },
  {
   "cell_type": "code",
   "execution_count": 75,
   "id": "def25cb6",
   "metadata": {},
   "outputs": [
    {
     "data": {
      "text/html": [
       "<div>\n",
       "<style scoped>\n",
       "    .dataframe tbody tr th:only-of-type {\n",
       "        vertical-align: middle;\n",
       "    }\n",
       "\n",
       "    .dataframe tbody tr th {\n",
       "        vertical-align: top;\n",
       "    }\n",
       "\n",
       "    .dataframe thead th {\n",
       "        text-align: right;\n",
       "    }\n",
       "</style>\n",
       "<table border=\"1\" class=\"dataframe\">\n",
       "  <thead>\n",
       "    <tr style=\"text-align: right;\">\n",
       "      <th></th>\n",
       "      <th>FIPS Code</th>\n",
       "      <th>State</th>\n",
       "      <th>County Name</th>\n",
       "      <th>1993 Rural-urban Continuum Code</th>\n",
       "      <th>2003 Rural-urban Continuum Code</th>\n",
       "      <th>2000 Population</th>\n",
       "      <th>Percent of workers in nonmetro counties commuting to central counties of adjacent metro areas</th>\n",
       "      <th>Description for 2003 codes</th>\n",
       "    </tr>\n",
       "  </thead>\n",
       "  <tbody>\n",
       "    <tr>\n",
       "      <th>0</th>\n",
       "      <td>1001</td>\n",
       "      <td>AL</td>\n",
       "      <td>Autauga County</td>\n",
       "      <td>2</td>\n",
       "      <td>2</td>\n",
       "      <td>43671</td>\n",
       "      <td>0.000000</td>\n",
       "      <td>County in metro area of 250,000 to 1 million p...</td>\n",
       "    </tr>\n",
       "    <tr>\n",
       "      <th>1</th>\n",
       "      <td>1003</td>\n",
       "      <td>AL</td>\n",
       "      <td>Baldwin County</td>\n",
       "      <td>2</td>\n",
       "      <td>4</td>\n",
       "      <td>140415</td>\n",
       "      <td>23.110304</td>\n",
       "      <td>Nonmetro county with urban population of 20,00...</td>\n",
       "    </tr>\n",
       "    <tr>\n",
       "      <th>2</th>\n",
       "      <td>1005</td>\n",
       "      <td>AL</td>\n",
       "      <td>Barbour County</td>\n",
       "      <td>6</td>\n",
       "      <td>6</td>\n",
       "      <td>29038</td>\n",
       "      <td>5.247930</td>\n",
       "      <td>Nonmetro county with urban population of 2,500...</td>\n",
       "    </tr>\n",
       "    <tr>\n",
       "      <th>3</th>\n",
       "      <td>1007</td>\n",
       "      <td>AL</td>\n",
       "      <td>Bibb County</td>\n",
       "      <td>6</td>\n",
       "      <td>1</td>\n",
       "      <td>20826</td>\n",
       "      <td>0.000000</td>\n",
       "      <td>County in metro area with 1 million population...</td>\n",
       "    </tr>\n",
       "    <tr>\n",
       "      <th>4</th>\n",
       "      <td>1009</td>\n",
       "      <td>AL</td>\n",
       "      <td>Blount County</td>\n",
       "      <td>2</td>\n",
       "      <td>1</td>\n",
       "      <td>51024</td>\n",
       "      <td>0.000000</td>\n",
       "      <td>County in metro area with 1 million population...</td>\n",
       "    </tr>\n",
       "  </tbody>\n",
       "</table>\n",
       "</div>"
      ],
      "text/plain": [
       "   FIPS Code State     County Name  1993 Rural-urban Continuum Code  \\\n",
       "0       1001    AL  Autauga County                                2   \n",
       "1       1003    AL  Baldwin County                                2   \n",
       "2       1005    AL  Barbour County                                6   \n",
       "3       1007    AL     Bibb County                                6   \n",
       "4       1009    AL   Blount County                                2   \n",
       "\n",
       "   2003 Rural-urban Continuum Code 2000 Population   \\\n",
       "0                                2            43671   \n",
       "1                                4           140415   \n",
       "2                                6            29038   \n",
       "3                                1            20826   \n",
       "4                                1            51024   \n",
       "\n",
       "   Percent of workers in nonmetro counties commuting to central counties of adjacent metro areas  \\\n",
       "0                                           0.000000                                               \n",
       "1                                          23.110304                                               \n",
       "2                                           5.247930                                               \n",
       "3                                           0.000000                                               \n",
       "4                                           0.000000                                               \n",
       "\n",
       "                          Description for 2003 codes  \n",
       "0  County in metro area of 250,000 to 1 million p...  \n",
       "1  Nonmetro county with urban population of 20,00...  \n",
       "2  Nonmetro county with urban population of 2,500...  \n",
       "3  County in metro area with 1 million population...  \n",
       "4  County in metro area with 1 million population...  "
      ]
     },
     "execution_count": 75,
     "metadata": {},
     "output_type": "execute_result"
    }
   ],
   "source": [
    "#USDA Metro/nonmetro codes 1993 & 2003\n",
    "usda_metro_93_03 = pd.read_excel(\"https://www.ers.usda.gov/webdocs/DataFiles/53251/ruralurbancodes2003.xls\")\n",
    "\n",
    "#Make sure the data is read it\n",
    "usda_metro_93_03.head()"
   ]
  },
  {
   "cell_type": "code",
   "execution_count": 60,
   "id": "c9d53f17",
   "metadata": {
    "scrolled": true
   },
   "outputs": [
    {
     "data": {
      "text/html": [
       "<div>\n",
       "<style scoped>\n",
       "    .dataframe tbody tr th:only-of-type {\n",
       "        vertical-align: middle;\n",
       "    }\n",
       "\n",
       "    .dataframe tbody tr th {\n",
       "        vertical-align: top;\n",
       "    }\n",
       "\n",
       "    .dataframe thead th {\n",
       "        text-align: right;\n",
       "    }\n",
       "</style>\n",
       "<table border=\"1\" class=\"dataframe\">\n",
       "  <thead>\n",
       "    <tr style=\"text-align: right;\">\n",
       "      <th></th>\n",
       "      <th>FIPS</th>\n",
       "      <th>State</th>\n",
       "      <th>County Name</th>\n",
       "      <th>1983 Rural-urban Continuum Code</th>\n",
       "      <th>1993 Rural-urban Continuum Code</th>\n",
       "    </tr>\n",
       "  </thead>\n",
       "  <tbody>\n",
       "    <tr>\n",
       "      <th>0</th>\n",
       "      <td>1001</td>\n",
       "      <td>AL</td>\n",
       "      <td>AUTAUGA COUNTY</td>\n",
       "      <td>2</td>\n",
       "      <td>2</td>\n",
       "    </tr>\n",
       "    <tr>\n",
       "      <th>1</th>\n",
       "      <td>1003</td>\n",
       "      <td>AL</td>\n",
       "      <td>BALDWIN COUNTY</td>\n",
       "      <td>2</td>\n",
       "      <td>2</td>\n",
       "    </tr>\n",
       "    <tr>\n",
       "      <th>2</th>\n",
       "      <td>1005</td>\n",
       "      <td>AL</td>\n",
       "      <td>BARBOUR COUNTY</td>\n",
       "      <td>6</td>\n",
       "      <td>6</td>\n",
       "    </tr>\n",
       "    <tr>\n",
       "      <th>3</th>\n",
       "      <td>1007</td>\n",
       "      <td>AL</td>\n",
       "      <td>BIBB COUNTY</td>\n",
       "      <td>6</td>\n",
       "      <td>6</td>\n",
       "    </tr>\n",
       "    <tr>\n",
       "      <th>4</th>\n",
       "      <td>1009</td>\n",
       "      <td>AL</td>\n",
       "      <td>BLOUNT COUNTY</td>\n",
       "      <td>2</td>\n",
       "      <td>2</td>\n",
       "    </tr>\n",
       "  </tbody>\n",
       "</table>\n",
       "</div>"
      ],
      "text/plain": [
       "   FIPS State     County Name  1983 Rural-urban Continuum Code  \\\n",
       "0  1001    AL  AUTAUGA COUNTY                                2   \n",
       "1  1003    AL  BALDWIN COUNTY                                2   \n",
       "2  1005    AL  BARBOUR COUNTY                                6   \n",
       "3  1007    AL     BIBB COUNTY                                6   \n",
       "4  1009    AL   BLOUNT COUNTY                                2   \n",
       "\n",
       "   1993 Rural-urban Continuum Code  \n",
       "0                                2  \n",
       "1                                2  \n",
       "2                                6  \n",
       "3                                6  \n",
       "4                                2  "
      ]
     },
     "execution_count": 60,
     "metadata": {},
     "output_type": "execute_result"
    }
   ],
   "source": [
    "#USDA Metro/nonmetro codes 1983\n",
    "usda_metro_1983 = pd.read_excel(\"https://www.ers.usda.gov/webdocs/DataFiles/53251/cd8393.xls\")\n",
    "\n",
    "#Make sure the data is read it\n",
    "usda_metro_1983.head()"
   ]
  },
  {
   "cell_type": "markdown",
   "id": "a176f53e",
   "metadata": {},
   "source": [
    "## Cleaning data\n",
    "Here we are cleaning the data: 1) renaming columns, 2) changing data types, and 3) making a subset of just California state"
   ]
  },
  {
   "cell_type": "code",
   "execution_count": 56,
   "id": "8bd2f320",
   "metadata": {},
   "outputs": [
    {
     "name": "stderr",
     "output_type": "stream",
     "text": [
      "C:\\Users\\acade\\anaconda3\\envs\\geo_ds\\lib\\site-packages\\pandas\\core\\indexing.py:1597: SettingWithCopyWarning: \n",
      "A value is trying to be set on a copy of a slice from a DataFrame.\n",
      "Try using .loc[row_indexer,col_indexer] = value instead\n",
      "\n",
      "See the caveats in the documentation: https://pandas.pydata.org/pandas-docs/stable/user_guide/indexing.html#returning-a-view-versus-a-copy\n",
      "  self.obj[key] = value\n",
      "C:\\Users\\acade\\anaconda3\\envs\\geo_ds\\lib\\site-packages\\pandas\\core\\indexing.py:1676: SettingWithCopyWarning: \n",
      "A value is trying to be set on a copy of a slice from a DataFrame.\n",
      "Try using .loc[row_indexer,col_indexer] = value instead\n",
      "\n",
      "See the caveats in the documentation: https://pandas.pydata.org/pandas-docs/stable/user_guide/indexing.html#returning-a-view-versus-a-copy\n",
      "  self._setitem_single_column(ilocs[0], value, pi)\n"
     ]
    },
    {
     "data": {
      "text/html": [
       "<div>\n",
       "<style scoped>\n",
       "    .dataframe tbody tr th:only-of-type {\n",
       "        vertical-align: middle;\n",
       "    }\n",
       "\n",
       "    .dataframe tbody tr th {\n",
       "        vertical-align: top;\n",
       "    }\n",
       "\n",
       "    .dataframe thead th {\n",
       "        text-align: right;\n",
       "    }\n",
       "</style>\n",
       "<table border=\"1\" class=\"dataframe\">\n",
       "  <thead>\n",
       "    <tr style=\"text-align: right;\">\n",
       "      <th></th>\n",
       "      <th>fips</th>\n",
       "      <th>State</th>\n",
       "      <th>County_Name</th>\n",
       "      <th>Population_2010</th>\n",
       "      <th>RUCC_2013</th>\n",
       "      <th>Description</th>\n",
       "      <th>metro_2013</th>\n",
       "    </tr>\n",
       "  </thead>\n",
       "  <tbody>\n",
       "    <tr>\n",
       "      <th>186</th>\n",
       "      <td>6001</td>\n",
       "      <td>CA</td>\n",
       "      <td>Alameda County</td>\n",
       "      <td>1510271</td>\n",
       "      <td>1.0</td>\n",
       "      <td>Metro - Counties in metro areas of 1 million p...</td>\n",
       "      <td>1</td>\n",
       "    </tr>\n",
       "    <tr>\n",
       "      <th>187</th>\n",
       "      <td>6003</td>\n",
       "      <td>CA</td>\n",
       "      <td>Alpine County</td>\n",
       "      <td>1175</td>\n",
       "      <td>8.0</td>\n",
       "      <td>Nonmetro - Completely rural or less than 2,500...</td>\n",
       "      <td>0</td>\n",
       "    </tr>\n",
       "    <tr>\n",
       "      <th>188</th>\n",
       "      <td>6005</td>\n",
       "      <td>CA</td>\n",
       "      <td>Amador County</td>\n",
       "      <td>38091</td>\n",
       "      <td>6.0</td>\n",
       "      <td>Nonmetro - Urban population of 2,500 to 19,999...</td>\n",
       "      <td>0</td>\n",
       "    </tr>\n",
       "    <tr>\n",
       "      <th>189</th>\n",
       "      <td>6007</td>\n",
       "      <td>CA</td>\n",
       "      <td>Butte County</td>\n",
       "      <td>220000</td>\n",
       "      <td>3.0</td>\n",
       "      <td>Metro - Counties in metro areas of fewer than ...</td>\n",
       "      <td>1</td>\n",
       "    </tr>\n",
       "    <tr>\n",
       "      <th>190</th>\n",
       "      <td>6009</td>\n",
       "      <td>CA</td>\n",
       "      <td>Calaveras County</td>\n",
       "      <td>45578</td>\n",
       "      <td>6.0</td>\n",
       "      <td>Nonmetro - Urban population of 2,500 to 19,999...</td>\n",
       "      <td>0</td>\n",
       "    </tr>\n",
       "  </tbody>\n",
       "</table>\n",
       "</div>"
      ],
      "text/plain": [
       "     fips State       County_Name  Population_2010  RUCC_2013  \\\n",
       "186  6001    CA    Alameda County          1510271        1.0   \n",
       "187  6003    CA     Alpine County             1175        8.0   \n",
       "188  6005    CA     Amador County            38091        6.0   \n",
       "189  6007    CA      Butte County           220000        3.0   \n",
       "190  6009    CA  Calaveras County            45578        6.0   \n",
       "\n",
       "                                           Description  metro_2013  \n",
       "186  Metro - Counties in metro areas of 1 million p...           1  \n",
       "187  Nonmetro - Completely rural or less than 2,500...           0  \n",
       "188  Nonmetro - Urban population of 2,500 to 19,999...           0  \n",
       "189  Metro - Counties in metro areas of fewer than ...           1  \n",
       "190  Nonmetro - Urban population of 2,500 to 19,999...           0  "
      ]
     },
     "execution_count": 56,
     "metadata": {},
     "output_type": "execute_result"
    }
   ],
   "source": [
    "usda_metro_2013.rename(columns = {'FIPS':'fips'}, inplace = True)\n",
    "usda_metro_2013_ca = usda_metro_2013[usda_metro_2013['State'] == 'CA']\n",
    "usda_metro_2013_ca.loc[:,'metro_2013']=usda_metro_2013_ca['RUCC_2013'].apply(lambda x: 1 if (x>= 1 and x<= 3) else 0)\n",
    "usda_metro_2013_ca.head()"
   ]
  },
  {
   "cell_type": "code",
   "execution_count": 77,
   "id": "efa85400",
   "metadata": {
    "scrolled": true
   },
   "outputs": [
    {
     "name": "stderr",
     "output_type": "stream",
     "text": [
      "C:\\Users\\acade\\anaconda3\\envs\\geo_ds\\lib\\site-packages\\pandas\\core\\indexing.py:1597: SettingWithCopyWarning: \n",
      "A value is trying to be set on a copy of a slice from a DataFrame.\n",
      "Try using .loc[row_indexer,col_indexer] = value instead\n",
      "\n",
      "See the caveats in the documentation: https://pandas.pydata.org/pandas-docs/stable/user_guide/indexing.html#returning-a-view-versus-a-copy\n",
      "  self.obj[key] = value\n",
      "C:\\Users\\acade\\anaconda3\\envs\\geo_ds\\lib\\site-packages\\pandas\\core\\indexing.py:1676: SettingWithCopyWarning: \n",
      "A value is trying to be set on a copy of a slice from a DataFrame.\n",
      "Try using .loc[row_indexer,col_indexer] = value instead\n",
      "\n",
      "See the caveats in the documentation: https://pandas.pydata.org/pandas-docs/stable/user_guide/indexing.html#returning-a-view-versus-a-copy\n",
      "  self._setitem_single_column(ilocs[0], value, pi)\n"
     ]
    },
    {
     "data": {
      "text/html": [
       "<div>\n",
       "<style scoped>\n",
       "    .dataframe tbody tr th:only-of-type {\n",
       "        vertical-align: middle;\n",
       "    }\n",
       "\n",
       "    .dataframe tbody tr th {\n",
       "        vertical-align: top;\n",
       "    }\n",
       "\n",
       "    .dataframe thead th {\n",
       "        text-align: right;\n",
       "    }\n",
       "</style>\n",
       "<table border=\"1\" class=\"dataframe\">\n",
       "  <thead>\n",
       "    <tr style=\"text-align: right;\">\n",
       "      <th></th>\n",
       "      <th>fips</th>\n",
       "      <th>State</th>\n",
       "      <th>County Name</th>\n",
       "      <th>RUCC_1993</th>\n",
       "      <th>RUCC_2003</th>\n",
       "      <th>2000 Population</th>\n",
       "      <th>Percent of workers in nonmetro counties commuting to central counties of adjacent metro areas</th>\n",
       "      <th>Description for 2003 codes</th>\n",
       "      <th>metro_1993</th>\n",
       "      <th>metro_2003</th>\n",
       "    </tr>\n",
       "  </thead>\n",
       "  <tbody>\n",
       "    <tr>\n",
       "      <th>184</th>\n",
       "      <td>6001</td>\n",
       "      <td>CA</td>\n",
       "      <td>Alameda County</td>\n",
       "      <td>0</td>\n",
       "      <td>1</td>\n",
       "      <td>1443741</td>\n",
       "      <td>0.000000</td>\n",
       "      <td>County in metro area with 1 million population...</td>\n",
       "      <td>0</td>\n",
       "      <td>1</td>\n",
       "    </tr>\n",
       "    <tr>\n",
       "      <th>185</th>\n",
       "      <td>6003</td>\n",
       "      <td>CA</td>\n",
       "      <td>Alpine County</td>\n",
       "      <td>9</td>\n",
       "      <td>8</td>\n",
       "      <td>1208</td>\n",
       "      <td>8.646003</td>\n",
       "      <td>Nonmetro county completely rural or less than ...</td>\n",
       "      <td>0</td>\n",
       "      <td>0</td>\n",
       "    </tr>\n",
       "    <tr>\n",
       "      <th>186</th>\n",
       "      <td>6005</td>\n",
       "      <td>CA</td>\n",
       "      <td>Amador County</td>\n",
       "      <td>6</td>\n",
       "      <td>6</td>\n",
       "      <td>35100</td>\n",
       "      <td>17.999701</td>\n",
       "      <td>Nonmetro county with urban population of 2,500...</td>\n",
       "      <td>0</td>\n",
       "      <td>0</td>\n",
       "    </tr>\n",
       "    <tr>\n",
       "      <th>187</th>\n",
       "      <td>6007</td>\n",
       "      <td>CA</td>\n",
       "      <td>Butte County</td>\n",
       "      <td>3</td>\n",
       "      <td>3</td>\n",
       "      <td>203171</td>\n",
       "      <td>0.000000</td>\n",
       "      <td>County in metro area of fewer than 250,000 pop...</td>\n",
       "      <td>1</td>\n",
       "      <td>1</td>\n",
       "    </tr>\n",
       "    <tr>\n",
       "      <th>188</th>\n",
       "      <td>6009</td>\n",
       "      <td>CA</td>\n",
       "      <td>Calaveras County</td>\n",
       "      <td>6</td>\n",
       "      <td>6</td>\n",
       "      <td>40554</td>\n",
       "      <td>17.272899</td>\n",
       "      <td>Nonmetro county with urban population of 2,500...</td>\n",
       "      <td>0</td>\n",
       "      <td>0</td>\n",
       "    </tr>\n",
       "  </tbody>\n",
       "</table>\n",
       "</div>"
      ],
      "text/plain": [
       "     fips State       County Name  RUCC_1993  RUCC_2003 2000 Population   \\\n",
       "184  6001    CA    Alameda County          0          1          1443741   \n",
       "185  6003    CA     Alpine County          9          8             1208   \n",
       "186  6005    CA     Amador County          6          6            35100   \n",
       "187  6007    CA      Butte County          3          3           203171   \n",
       "188  6009    CA  Calaveras County          6          6            40554   \n",
       "\n",
       "     Percent of workers in nonmetro counties commuting to central counties of adjacent metro areas  \\\n",
       "184                                           0.000000                                               \n",
       "185                                           8.646003                                               \n",
       "186                                          17.999701                                               \n",
       "187                                           0.000000                                               \n",
       "188                                          17.272899                                               \n",
       "\n",
       "                            Description for 2003 codes  metro_1993  metro_2003  \n",
       "184  County in metro area with 1 million population...           0           1  \n",
       "185  Nonmetro county completely rural or less than ...           0           0  \n",
       "186  Nonmetro county with urban population of 2,500...           0           0  \n",
       "187  County in metro area of fewer than 250,000 pop...           1           1  \n",
       "188  Nonmetro county with urban population of 2,500...           0           0  "
      ]
     },
     "execution_count": 77,
     "metadata": {},
     "output_type": "execute_result"
    }
   ],
   "source": [
    "usda_metro_93_03.rename(columns = {'1993 Rural-urban Continuum Code':'RUCC_1993',\n",
    "                                  '2003 Rural-urban Continuum Code':'RUCC_2003',\n",
    "                                  'FIPS Code':'fips'}, inplace = True)\n",
    "usda_metro_93_03_ca = usda_metro_93_03[usda_metro_93_03['State'] == 'CA']\n",
    "usda_metro_93_03_ca.loc[:,'metro_1993']=usda_metro_93_03_ca['RUCC_1993'].apply(lambda x: 1 if (x>= 1 and x<= 3) else 0)\n",
    "usda_metro_93_03_ca.loc[:,'metro_2003']=usda_metro_93_03_ca['RUCC_2003'].apply(lambda x: 1 if (x>= 1 and x<= 3) else 0)\n",
    "usda_metro_93_03_ca.head()"
   ]
  },
  {
   "cell_type": "code",
   "execution_count": 78,
   "id": "d4c5ee91",
   "metadata": {
    "scrolled": false
   },
   "outputs": [
    {
     "name": "stderr",
     "output_type": "stream",
     "text": [
      "C:\\Users\\acade\\anaconda3\\envs\\geo_ds\\lib\\site-packages\\pandas\\core\\indexing.py:1597: SettingWithCopyWarning: \n",
      "A value is trying to be set on a copy of a slice from a DataFrame.\n",
      "Try using .loc[row_indexer,col_indexer] = value instead\n",
      "\n",
      "See the caveats in the documentation: https://pandas.pydata.org/pandas-docs/stable/user_guide/indexing.html#returning-a-view-versus-a-copy\n",
      "  self.obj[key] = value\n",
      "C:\\Users\\acade\\anaconda3\\envs\\geo_ds\\lib\\site-packages\\pandas\\core\\indexing.py:1676: SettingWithCopyWarning: \n",
      "A value is trying to be set on a copy of a slice from a DataFrame.\n",
      "Try using .loc[row_indexer,col_indexer] = value instead\n",
      "\n",
      "See the caveats in the documentation: https://pandas.pydata.org/pandas-docs/stable/user_guide/indexing.html#returning-a-view-versus-a-copy\n",
      "  self._setitem_single_column(ilocs[0], value, pi)\n"
     ]
    },
    {
     "data": {
      "text/html": [
       "<div>\n",
       "<style scoped>\n",
       "    .dataframe tbody tr th:only-of-type {\n",
       "        vertical-align: middle;\n",
       "    }\n",
       "\n",
       "    .dataframe tbody tr th {\n",
       "        vertical-align: top;\n",
       "    }\n",
       "\n",
       "    .dataframe thead th {\n",
       "        text-align: right;\n",
       "    }\n",
       "</style>\n",
       "<table border=\"1\" class=\"dataframe\">\n",
       "  <thead>\n",
       "    <tr style=\"text-align: right;\">\n",
       "      <th></th>\n",
       "      <th>fips</th>\n",
       "      <th>State</th>\n",
       "      <th>County Name</th>\n",
       "      <th>RUCC_1983</th>\n",
       "      <th>1993 Rural-urban Continuum Code</th>\n",
       "      <th>metro_1983</th>\n",
       "    </tr>\n",
       "  </thead>\n",
       "  <tbody>\n",
       "    <tr>\n",
       "      <th>183</th>\n",
       "      <td>6001</td>\n",
       "      <td>CA</td>\n",
       "      <td>ALAMEDA COUNTY</td>\n",
       "      <td>0</td>\n",
       "      <td>0</td>\n",
       "      <td>0</td>\n",
       "    </tr>\n",
       "    <tr>\n",
       "      <th>184</th>\n",
       "      <td>6003</td>\n",
       "      <td>CA</td>\n",
       "      <td>ALPINE COUNTY</td>\n",
       "      <td>9</td>\n",
       "      <td>9</td>\n",
       "      <td>0</td>\n",
       "    </tr>\n",
       "    <tr>\n",
       "      <th>185</th>\n",
       "      <td>6005</td>\n",
       "      <td>CA</td>\n",
       "      <td>AMADOR COUNTY</td>\n",
       "      <td>8</td>\n",
       "      <td>6</td>\n",
       "      <td>0</td>\n",
       "    </tr>\n",
       "    <tr>\n",
       "      <th>186</th>\n",
       "      <td>6007</td>\n",
       "      <td>CA</td>\n",
       "      <td>BUTTE COUNTY</td>\n",
       "      <td>3</td>\n",
       "      <td>3</td>\n",
       "      <td>1</td>\n",
       "    </tr>\n",
       "    <tr>\n",
       "      <th>187</th>\n",
       "      <td>6009</td>\n",
       "      <td>CA</td>\n",
       "      <td>CALAVERAS COUNTY</td>\n",
       "      <td>8</td>\n",
       "      <td>6</td>\n",
       "      <td>0</td>\n",
       "    </tr>\n",
       "  </tbody>\n",
       "</table>\n",
       "</div>"
      ],
      "text/plain": [
       "     fips State       County Name  RUCC_1983  1993 Rural-urban Continuum Code  \\\n",
       "183  6001    CA    ALAMEDA COUNTY          0                                0   \n",
       "184  6003    CA     ALPINE COUNTY          9                                9   \n",
       "185  6005    CA     AMADOR COUNTY          8                                6   \n",
       "186  6007    CA      BUTTE COUNTY          3                                3   \n",
       "187  6009    CA  CALAVERAS COUNTY          8                                6   \n",
       "\n",
       "     metro_1983  \n",
       "183           0  \n",
       "184           0  \n",
       "185           0  \n",
       "186           1  \n",
       "187           0  "
      ]
     },
     "execution_count": 78,
     "metadata": {},
     "output_type": "execute_result"
    }
   ],
   "source": [
    "usda_metro_1983.rename(columns = {'1983 Rural-urban Continuum Code':'RUCC_1983','FIPS':'fips'}, inplace = True)\n",
    "usda_metro_1983_ca = usda_metro_1983[usda_metro_1983['State'] == 'CA']\n",
    "usda_metro_1983_ca.loc[:,'metro_1983']=usda_metro_1983_ca['RUCC_1983'].apply(lambda x: 1 if (x>= 1 and x<= 3) else 0)\n",
    "usda_metro_1983_ca.head()"
   ]
  },
  {
   "cell_type": "markdown",
   "id": "1d8b6798",
   "metadata": {},
   "source": [
    "## Reading in the county shapefile and making subset of California map"
   ]
  },
  {
   "cell_type": "code",
   "execution_count": 79,
   "id": "712b530d",
   "metadata": {
    "scrolled": true
   },
   "outputs": [
    {
     "data": {
      "text/plain": [
       "<AxesSubplot:>"
      ]
     },
     "execution_count": 79,
     "metadata": {},
     "output_type": "execute_result"
    },
    {
     "data": {
      "image/png": "[encoded data removed]",
      "text/plain": [
       "<Figure size 432x288 with 1 Axes>"
      ]
     },
     "metadata": {
      "needs_background": "light"
     },
     "output_type": "display_data"
    }
   ],
   "source": [
    "county = gpd.read_file(\"D:/documents copy/research/Practice/extract/county_shapefile/cb_2016_us_county_500k.shp\")\n",
    "county_CA = county[county['STATEFP'] == '06']\n",
    "county_CA.plot()"
   ]
  },
  {
   "cell_type": "markdown",
   "id": "aa5063ce",
   "metadata": {},
   "source": [
    "## Merging all data together"
   ]
  },
  {
   "cell_type": "code",
   "execution_count": 85,
   "id": "89a50c48",
   "metadata": {
    "scrolled": true
   },
   "outputs": [
    {
     "data": {
      "text/html": [
       "<div>\n",
       "<style scoped>\n",
       "    .dataframe tbody tr th:only-of-type {\n",
       "        vertical-align: middle;\n",
       "    }\n",
       "\n",
       "    .dataframe tbody tr th {\n",
       "        vertical-align: top;\n",
       "    }\n",
       "\n",
       "    .dataframe thead th {\n",
       "        text-align: right;\n",
       "    }\n",
       "</style>\n",
       "<table border=\"1\" class=\"dataframe\">\n",
       "  <thead>\n",
       "    <tr style=\"text-align: right;\">\n",
       "      <th></th>\n",
       "      <th>STATEFP</th>\n",
       "      <th>COUNTYFP</th>\n",
       "      <th>COUNTYNS</th>\n",
       "      <th>AFFGEOID</th>\n",
       "      <th>GEOID</th>\n",
       "      <th>NAME</th>\n",
       "      <th>LSAD</th>\n",
       "      <th>ALAND</th>\n",
       "      <th>AWATER</th>\n",
       "      <th>fips</th>\n",
       "      <th>...</th>\n",
       "      <th>2000 Population</th>\n",
       "      <th>Percent of workers in nonmetro counties commuting to central counties of adjacent metro areas</th>\n",
       "      <th>Description for 2003 codes</th>\n",
       "      <th>metro_2003</th>\n",
       "      <th>metro_1993</th>\n",
       "      <th>State</th>\n",
       "      <th>County Name_y</th>\n",
       "      <th>RUCC_1983</th>\n",
       "      <th>1993 Rural-urban Continuum Code</th>\n",
       "      <th>metro_1983</th>\n",
       "    </tr>\n",
       "  </thead>\n",
       "  <tbody>\n",
       "    <tr>\n",
       "      <th>0</th>\n",
       "      <td>06</td>\n",
       "      <td>007</td>\n",
       "      <td>01675842</td>\n",
       "      <td>0500000US06007</td>\n",
       "      <td>06007</td>\n",
       "      <td>Butte</td>\n",
       "      <td>06</td>\n",
       "      <td>4238423343</td>\n",
       "      <td>105325812</td>\n",
       "      <td>6007</td>\n",
       "      <td>...</td>\n",
       "      <td>203171</td>\n",
       "      <td>0.000000</td>\n",
       "      <td>County in metro area of fewer than 250,000 pop...</td>\n",
       "      <td>1</td>\n",
       "      <td>1</td>\n",
       "      <td>CA</td>\n",
       "      <td>BUTTE COUNTY</td>\n",
       "      <td>3</td>\n",
       "      <td>3</td>\n",
       "      <td>1</td>\n",
       "    </tr>\n",
       "    <tr>\n",
       "      <th>1</th>\n",
       "      <td>06</td>\n",
       "      <td>009</td>\n",
       "      <td>01675885</td>\n",
       "      <td>0500000US06009</td>\n",
       "      <td>06009</td>\n",
       "      <td>Calaveras</td>\n",
       "      <td>06</td>\n",
       "      <td>2641820834</td>\n",
       "      <td>43806026</td>\n",
       "      <td>6009</td>\n",
       "      <td>...</td>\n",
       "      <td>40554</td>\n",
       "      <td>17.272899</td>\n",
       "      <td>Nonmetro county with urban population of 2,500...</td>\n",
       "      <td>0</td>\n",
       "      <td>0</td>\n",
       "      <td>CA</td>\n",
       "      <td>CALAVERAS COUNTY</td>\n",
       "      <td>8</td>\n",
       "      <td>6</td>\n",
       "      <td>0</td>\n",
       "    </tr>\n",
       "    <tr>\n",
       "      <th>2</th>\n",
       "      <td>06</td>\n",
       "      <td>011</td>\n",
       "      <td>01675902</td>\n",
       "      <td>0500000US06011</td>\n",
       "      <td>06011</td>\n",
       "      <td>Colusa</td>\n",
       "      <td>06</td>\n",
       "      <td>2980372757</td>\n",
       "      <td>14581043</td>\n",
       "      <td>6011</td>\n",
       "      <td>...</td>\n",
       "      <td>18804</td>\n",
       "      <td>14.237096</td>\n",
       "      <td>Nonmetro county with urban population of 2,500...</td>\n",
       "      <td>0</td>\n",
       "      <td>0</td>\n",
       "      <td>CA</td>\n",
       "      <td>COLUSA COUNTY</td>\n",
       "      <td>6</td>\n",
       "      <td>6</td>\n",
       "      <td>0</td>\n",
       "    </tr>\n",
       "    <tr>\n",
       "      <th>3</th>\n",
       "      <td>06</td>\n",
       "      <td>017</td>\n",
       "      <td>00277273</td>\n",
       "      <td>0500000US06017</td>\n",
       "      <td>06017</td>\n",
       "      <td>El Dorado</td>\n",
       "      <td>06</td>\n",
       "      <td>4423349463</td>\n",
       "      <td>203269403</td>\n",
       "      <td>6017</td>\n",
       "      <td>...</td>\n",
       "      <td>156299</td>\n",
       "      <td>0.000000</td>\n",
       "      <td>County in metro area with 1 million population...</td>\n",
       "      <td>1</td>\n",
       "      <td>1</td>\n",
       "      <td>CA</td>\n",
       "      <td>EL DORADO COUNTY</td>\n",
       "      <td>1</td>\n",
       "      <td>1</td>\n",
       "      <td>1</td>\n",
       "    </tr>\n",
       "    <tr>\n",
       "      <th>4</th>\n",
       "      <td>06</td>\n",
       "      <td>019</td>\n",
       "      <td>00277274</td>\n",
       "      <td>0500000US06019</td>\n",
       "      <td>06019</td>\n",
       "      <td>Fresno</td>\n",
       "      <td>06</td>\n",
       "      <td>15433177265</td>\n",
       "      <td>135374444</td>\n",
       "      <td>6019</td>\n",
       "      <td>...</td>\n",
       "      <td>799407</td>\n",
       "      <td>0.000000</td>\n",
       "      <td>County in metro area of 250,000 to 1 million p...</td>\n",
       "      <td>1</td>\n",
       "      <td>1</td>\n",
       "      <td>CA</td>\n",
       "      <td>FRESNO COUNTY</td>\n",
       "      <td>2</td>\n",
       "      <td>2</td>\n",
       "      <td>1</td>\n",
       "    </tr>\n",
       "  </tbody>\n",
       "</table>\n",
       "<p>5 rows × 31 columns</p>\n",
       "</div>"
      ],
      "text/plain": [
       "  STATEFP COUNTYFP  COUNTYNS        AFFGEOID  GEOID       NAME LSAD  \\\n",
       "0      06      007  01675842  0500000US06007  06007      Butte   06   \n",
       "1      06      009  01675885  0500000US06009  06009  Calaveras   06   \n",
       "2      06      011  01675902  0500000US06011  06011     Colusa   06   \n",
       "3      06      017  00277273  0500000US06017  06017  El Dorado   06   \n",
       "4      06      019  00277274  0500000US06019  06019     Fresno   06   \n",
       "\n",
       "         ALAND     AWATER  fips  ... 2000 Population   \\\n",
       "0   4238423343  105325812  6007  ...           203171   \n",
       "1   2641820834   43806026  6009  ...            40554   \n",
       "2   2980372757   14581043  6011  ...            18804   \n",
       "3   4423349463  203269403  6017  ...           156299   \n",
       "4  15433177265  135374444  6019  ...           799407   \n",
       "\n",
       "  Percent of workers in nonmetro counties commuting to central counties of adjacent metro areas  \\\n",
       "0                                           0.000000                                              \n",
       "1                                          17.272899                                              \n",
       "2                                          14.237096                                              \n",
       "3                                           0.000000                                              \n",
       "4                                           0.000000                                              \n",
       "\n",
       "                          Description for 2003 codes  metro_2003  metro_1993  \\\n",
       "0  County in metro area of fewer than 250,000 pop...           1           1   \n",
       "1  Nonmetro county with urban population of 2,500...           0           0   \n",
       "2  Nonmetro county with urban population of 2,500...           0           0   \n",
       "3  County in metro area with 1 million population...           1           1   \n",
       "4  County in metro area of 250,000 to 1 million p...           1           1   \n",
       "\n",
       "  State     County Name_y RUCC_1983 1993 Rural-urban Continuum Code  \\\n",
       "0    CA      BUTTE COUNTY         3                               3   \n",
       "1    CA  CALAVERAS COUNTY         8                               6   \n",
       "2    CA     COLUSA COUNTY         6                               6   \n",
       "3    CA  EL DORADO COUNTY         1                               1   \n",
       "4    CA     FRESNO COUNTY         2                               2   \n",
       "\n",
       "   metro_1983  \n",
       "0           1  \n",
       "1           0  \n",
       "2           0  \n",
       "3           1  \n",
       "4           1  \n",
       "\n",
       "[5 rows x 31 columns]"
      ]
     },
     "execution_count": 85,
     "metadata": {},
     "output_type": "execute_result"
    }
   ],
   "source": [
    "county_CA_metro3=county_CA.merge(usda_metro_2013_ca, on='fips', how='inner', \n",
    "                             validate='one_to_one')\n",
    "county_CA_metro2=county_CA_metro3.merge(usda_metro_2003_ca, on='fips', how='inner', \n",
    "                             validate='one_to_one')\n",
    "county_CA_metro=county_CA_metro2.merge(usda_metro_1983_ca,  on='fips', how='inner', \n",
    "                             validate='one_to_one')\n",
    "county_CA_metro.head()"
   ]
  },
  {
   "cell_type": "markdown",
   "id": "60094600",
   "metadata": {},
   "source": [
    "## Map of metro/nonmetro counties in California (1983)"
   ]
  },
  {
   "cell_type": "code",
   "execution_count": 87,
   "id": "756b4f67",
   "metadata": {},
   "outputs": [
    {
     "data": {
      "text/plain": [
       "<AxesSubplot:>"
      ]
     },
     "execution_count": 87,
     "metadata": {},
     "output_type": "execute_result"
    },
    {
     "data": {
      "image/png": "[encoded data removed]",
      "text/plain": [
       "<Figure size 720x720 with 2 Axes>"
      ]
     },
     "metadata": {
      "needs_background": "light"
     },
     "output_type": "display_data"
    }
   ],
   "source": [
    "county_CA_metro.plot(figsize=(10,10), column='metro_1983', cmap='OrRd', legend=True)"
   ]
  },
  {
   "cell_type": "markdown",
   "id": "969b3ab0",
   "metadata": {},
   "source": [
    "## Map of metro/nonmetro counties in California (1993)"
   ]
  },
  {
   "cell_type": "code",
   "execution_count": 88,
   "id": "35c480e8",
   "metadata": {
    "scrolled": false
   },
   "outputs": [
    {
     "data": {
      "text/plain": [
       "<AxesSubplot:>"
      ]
     },
     "execution_count": 88,
     "metadata": {},
     "output_type": "execute_result"
    },
    {
     "data": {
      "image/png": "[encoded data removed]",
      "text/plain": [
       "<Figure size 720x720 with 2 Axes>"
      ]
     },
     "metadata": {
      "needs_background": "light"
     },
     "output_type": "display_data"
    }
   ],
   "source": [
    "county_CA_metro.plot(figsize=(10,10), column='metro_1993', cmap='OrRd', legend=True)"
   ]
  },
  {
   "cell_type": "markdown",
   "id": "db0987ad",
   "metadata": {},
   "source": [
    "## Map of metro/nonmetro counties in California (2003)"
   ]
  },
  {
   "cell_type": "code",
   "execution_count": 89,
   "id": "505078ab",
   "metadata": {
    "scrolled": false
   },
   "outputs": [
    {
     "data": {
      "text/plain": [
       "<AxesSubplot:>"
      ]
     },
     "execution_count": 89,
     "metadata": {},
     "output_type": "execute_result"
    },
    {
     "data": {
      "image/png": "[encoded data removed]",
      "text/plain": [
       "<Figure size 720x720 with 2 Axes>"
      ]
     },
     "metadata": {
      "needs_background": "light"
     },
     "output_type": "display_data"
    }
   ],
   "source": [
    "county_CA_metro.plot(figsize=(10,10), column='metro_2003', cmap='OrRd', legend=True)"
   ]
  },
  {
   "cell_type": "markdown",
   "id": "73af3e09",
   "metadata": {},
   "source": [
    "## Map of metro/nonmetro counties in California (2013)"
   ]
  },
  {
   "cell_type": "code",
   "execution_count": 90,
   "id": "4a95a2b0",
   "metadata": {},
   "outputs": [
    {
     "data": {
      "text/plain": [
       "<AxesSubplot:>"
      ]
     },
     "execution_count": 90,
     "metadata": {},
     "output_type": "execute_result"
    },
    {
     "data": {
      "image/png": "[encoded data removed]",
      "text/plain": [
       "<Figure size 720x720 with 2 Axes>"
      ]
     },
     "metadata": {
      "needs_background": "light"
     },
     "output_type": "display_data"
    }
   ],
   "source": [
    "county_CA_metro.plot(figsize=(10,10), column='metro_2013', cmap='OrRd', legend=True)"
   ]
  }
 ],
 "metadata": {
  "kernelspec": {
   "display_name": "Python 3",
   "language": "python",
   "name": "python3"
  },
  "language_info": {
   "codemirror_mode": {
    "name": "ipython",
    "version": 3
   },
   "file_extension": ".py",
   "mimetype": "text/x-python",
   "name": "python",
   "nbconvert_exporter": "python",
   "pygments_lexer": "ipython3",
   "version": "3.8.10"
  }
 },
 "nbformat": 4,
 "nbformat_minor": 5
}
